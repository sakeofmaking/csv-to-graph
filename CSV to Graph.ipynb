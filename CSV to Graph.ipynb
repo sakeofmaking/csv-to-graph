{
 "cells": [
  {
   "cell_type": "code",
   "execution_count": 1,
   "id": "46949fac",
   "metadata": {},
   "outputs": [
    {
     "data": {
      "application/vnd.jupyter.widget-view+json": {
       "model_id": "452c4018530d4436b4bdad9e3fc5b482",
       "version_major": 2,
       "version_minor": 0
      },
      "text/plain": [
       "HBox(children=(Label(value='CH1'), Checkbox(value=True)))"
      ]
     },
     "metadata": {},
     "output_type": "display_data"
    },
    {
     "data": {
      "application/vnd.jupyter.widget-view+json": {
       "model_id": "89206d73598544fababe4d1ba27f4793",
       "version_major": 2,
       "version_minor": 0
      },
      "text/plain": [
       "HBox(children=(Label(value='CH2'), Checkbox(value=True)))"
      ]
     },
     "metadata": {},
     "output_type": "display_data"
    },
    {
     "data": {
      "application/vnd.jupyter.widget-view+json": {
       "model_id": "d41144625b554fe1beaf58d028b4164d",
       "version_major": 2,
       "version_minor": 0
      },
      "text/plain": [
       "HBox(children=(Label(value='CH4'), Checkbox(value=True)))"
      ]
     },
     "metadata": {},
     "output_type": "display_data"
    },
    {
     "data": {
      "application/vnd.jupyter.widget-view+json": {
       "model_id": "c55bdb21deb64a80b7e100b4b9c5c9f0",
       "version_major": 2,
       "version_minor": 0
      },
      "text/plain": [
       "HBox(children=(Label(value='x lower'), Text(value='-100')))"
      ]
     },
     "metadata": {},
     "output_type": "display_data"
    },
    {
     "data": {
      "application/vnd.jupyter.widget-view+json": {
       "model_id": "56e3dbfc25524624ab27c88d19ba9c72",
       "version_major": 2,
       "version_minor": 0
      },
      "text/plain": [
       "HBox(children=(Label(value='x upper'), Text(value='6200')))"
      ]
     },
     "metadata": {},
     "output_type": "display_data"
    },
    {
     "data": {
      "application/vnd.jupyter.widget-view+json": {
       "model_id": "fbbaadc1f46d4d2793ac1efc5dcf49a3",
       "version_major": 2,
       "version_minor": 0
      },
      "text/plain": [
       "HBox(children=(Label(value='y lower'), Text(value='-2')))"
      ]
     },
     "metadata": {},
     "output_type": "display_data"
    },
    {
     "data": {
      "application/vnd.jupyter.widget-view+json": {
       "model_id": "667164dd9d0445e281323b10b84351a5",
       "version_major": 2,
       "version_minor": 0
      },
      "text/plain": [
       "HBox(children=(Label(value='y upper'), Text(value='25')))"
      ]
     },
     "metadata": {},
     "output_type": "display_data"
    },
    {
     "data": {
      "application/vnd.jupyter.widget-view+json": {
       "model_id": "fa05c1c4c2724537a0787e7a3a67d8f4",
       "version_major": 2,
       "version_minor": 0
      },
      "text/plain": [
       "Button(description='Generate Plot', style=ButtonStyle())"
      ]
     },
     "metadata": {},
     "output_type": "display_data"
    },
    {
     "data": {
      "image/png": "[encoded data removed]",
      "text/plain": [
       "<Figure size 684x360 with 1 Axes>"
      ]
     },
     "metadata": {
      "needs_background": "light"
     },
     "output_type": "display_data"
    }
   ],
   "source": [
    "\"\"\"\n",
    "Graph Voltage\n",
    "\n",
    "Description: Graph voltage from CH1, CH2, CH4\n",
    "\n",
    "Author: Nic La\n",
    "Last modified: May 2022\n",
    "\"\"\"\n",
    "\n",
    "from ipywidgets import widgets, Layout, HBox, VBox\n",
    "import csv\n",
    "import matplotlib.pyplot as plt\n",
    "# %matplotlib notebook\n",
    "%matplotlib inline\n",
    "\n",
    "\n",
    "def open_csv():\n",
    "    \"\"\"Open CSV file and x_values, y1_values, y2_values, y3_values\"\"\"\n",
    "    # Initialize variables\n",
    "    date_file = 'input.CSV'\n",
    "    raw = []\n",
    "    x_values, y1_values, y2_values, y3_values = [], [], [], []\n",
    "\n",
    "    # Open csv\n",
    "    with open(date_file) as in_file:\n",
    "        reader = csv.reader(in_file, delimiter=',')\n",
    "        for row in reader:\n",
    "            raw.append(row)\n",
    "    \n",
    "    # Assign first row to header\n",
    "    x_header, y1_header, y2_header, y3_header = raw[0]\n",
    "    \n",
    "    # Assign remaining rows to x, y1, y2, y3\n",
    "    for line in raw[1:]:\n",
    "        x_values.append((float(line[0]) - 1) / 10)\n",
    "        y1_values.append(float(line[1]))\n",
    "        y2_values.append(float(line[2]))\n",
    "        y3_values.append(float(line[3]))\n",
    "    \n",
    "    return x_header, y1_header, y2_header, y3_header, x_values, y1_values, y2_values, y3_values\n",
    "\n",
    "\n",
    "def generate_plot(x_header, y1_header, y2_header, y3_header, x_values, y1_values, y2_values, y3_values, cb1_value, cb2_value, cb3_value):\n",
    "    \"\"\"Plot x, y1, y2, y3\"\"\"\n",
    "    fig_size = plt.rcParams[\"figure.figsize\"]\n",
    "    fig_size[0] = 9.5\n",
    "    fig_size[1] = 5\n",
    "    fig = plt.figure(1)\n",
    "    fig.clear()\n",
    "    ax1_1 = fig.add_subplot(111)\n",
    "    # Plot scatter\n",
    "    # plt.figure()\n",
    "    # plt.scatter(x_values, y1_values, c='red', edgecolors='none', s=10, label=y1_header)\n",
    "    # plt.scatter(x_values, y2_values, c='green', edgecolors='none', s=10, label=y2_header)\n",
    "    # plt.scatter(x_values, y3_values, c='blue', edgecolors='none', s=10, label=y3_header)\n",
    "\n",
    "    # Plot line\n",
    "    # plt.figure(figsize=(9, 5), layout='constrained')\n",
    "    if cb1_value:\n",
    "        ax1_1.plot(x_values, y1_values, c='red', label=y1_header)\n",
    "    if cb2_value:\n",
    "        ax1_1.plot(x_values, y2_values, c='green', label=y2_header)\n",
    "    if cb3_value:\n",
    "        ax1_1.plot(x_values, y3_values, c='blue', label=y3_header)\n",
    "\n",
    "    # Set chart title and label axis\n",
    "    ax1_1.set_title(\"Voltage Over Time\", fontsize=24)\n",
    "    ax1_1.set_xlabel(\"Time (s)\", fontsize=14)\n",
    "    ax1_1.set_ylabel(\"Voltage (V)\", fontsize=14)\n",
    "    ax1_1.legend()\n",
    "\n",
    "    # Set range for each axis\n",
    "    # plt.axis([0, 1000, 23.4, 23.6])\n",
    "    ax1_1.axis([float(text4.value), float(text5.value), float(text6.value), float(text7.value)])\n",
    "\n",
    "    # plt.savefig('plot.png', bbox_inches='tight')  # bbox_inches trims excess white space\n",
    "    # plt.show()\n",
    "    fig.canvas.draw()\n",
    "\n",
    "\n",
    "def button_click(button):\n",
    "    generate_plot(x_header, y1_header, y2_header, y3_header, x_values, y1_values, y2_values, y3_values, cb1.value, cb2.value, cb3.value)\n",
    "\n",
    "\n",
    "if __name__ == \"__main__\":\n",
    "    x_header, y1_header, y2_header, y3_header, x_values, y1_values, y2_values, y3_values = open_csv()\n",
    "    \n",
    "    # Ch1 Selection\n",
    "    lbl1 = widgets.Label(y1_header)\n",
    "    cb1 = widgets.Checkbox(value=True)\n",
    "    display(HBox([lbl1, cb1]))\n",
    "    \n",
    "    # Ch2 Selection\n",
    "    lbl2 = widgets.Label(y2_header)\n",
    "    cb2 = widgets.Checkbox(value=True)\n",
    "    display(HBox([lbl2, cb2]))\n",
    "    \n",
    "    # Ch4 Selection\n",
    "    lbl3 = widgets.Label(y3_header)\n",
    "    cb3 = widgets.Checkbox(value=True)\n",
    "    display(HBox([lbl3, cb3]))\n",
    "    \n",
    "    # X Lower\n",
    "    lbl4 = widgets.Label(\"x lower\")\n",
    "    text4 = widgets.Text(value='-100')\n",
    "    display(HBox([lbl4, text4]))\n",
    "    \n",
    "    # X Upper\n",
    "    lbl5 = widgets.Label(\"x upper\")\n",
    "    text5 = widgets.Text(value='6200')\n",
    "    display(HBox([lbl5, text5]))\n",
    "    \n",
    "    # Y Lower\n",
    "    lbl6 = widgets.Label(\"y lower\")\n",
    "    text6 = widgets.Text(value='-2')\n",
    "    display(HBox([lbl6, text6]))\n",
    "    \n",
    "    # Y Upper\n",
    "    lbl7 = widgets.Label(\"y upper\")\n",
    "    text7 = widgets.Text(value='25')\n",
    "    display(HBox([lbl7, text7]))\n",
    "    \n",
    "    # Generate Plot\n",
    "    btn = widgets.Button(description='Generate Plot')\n",
    "    display(btn)\n",
    "    btn.on_click(button_click)\n",
    "    \n"
   ]
  }
 ],
 "metadata": {
  "kernelspec": {
   "display_name": "Python 3 (ipykernel)",
   "language": "python",
   "name": "python3"
  },
  "language_info": {
   "codemirror_mode": {
    "name": "ipython",
    "version": 3
   },
   "file_extension": ".py",
   "mimetype": "text/x-python",
   "name": "python",
   "nbconvert_exporter": "python",
   "pygments_lexer": "ipython3",
   "version": "3.10.4"
  }
 },
 "nbformat": 4,
 "nbformat_minor": 5
}
